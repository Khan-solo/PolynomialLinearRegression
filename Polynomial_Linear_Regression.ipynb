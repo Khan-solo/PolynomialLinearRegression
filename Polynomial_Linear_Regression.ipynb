{
  "nbformat": 4,
  "nbformat_minor": 0,
  "metadata": {
    "colab": {
      "name": "Polynomial Linear Regression",
      "provenance": [],
      "collapsed_sections": [],
      "mount_file_id": "1X7MEUvrFK6DTNtHmwBTr2FPRSkuLHtZX",
      "authorship_tag": "ABX9TyMLjqsa8sgFLULst/QhJy/V",
      "include_colab_link": true
    },
    "kernelspec": {
      "name": "python3",
      "display_name": "Python 3"
    },
    "language_info": {
      "name": "python"
    }
  },
  "cells": [
    {
      "cell_type": "markdown",
      "metadata": {
        "id": "view-in-github",
        "colab_type": "text"
      },
      "source": [
        "<a href=\"https://colab.research.google.com/github/Khan-solo/PolynomialLinearRegression/blob/main/Polynomial_Linear_Regression.ipynb\" target=\"_parent\"><img src=\"https://colab.research.google.com/assets/colab-badge.svg\" alt=\"Open In Colab\"/></a>"
      ]
    },
    {
      "cell_type": "code",
      "metadata": {
        "id": "8e4KYXd4iCcG"
      },
      "source": [
        "import numpy as np\n",
        "import pandas as pd\n",
        "import matplotlib.pyplot as plt\n",
        "from sklearn.metrics import r2_score\n",
        "np.set_printoptions(precision=2)"
      ],
      "execution_count": 29,
      "outputs": []
    },
    {
      "cell_type": "code",
      "metadata": {
        "id": "IrZ0hq3Gi16a"
      },
      "source": [
        "dataset = pd.read_csv(\"/content/drive/MyDrive/Machine learning/Regression/Polynomial Linear Regression/Position_Salaries.csv\")\n",
        "X = np.array(dataset.iloc[:, 1:-1])\n",
        "y = np.array(dataset.iloc[:, -1])"
      ],
      "execution_count": 30,
      "outputs": []
    },
    {
      "cell_type": "markdown",
      "metadata": {
        "id": "xmG__NnNn76q"
      },
      "source": [
        "# Testing Simple Linear Model"
      ]
    },
    {
      "cell_type": "code",
      "metadata": {
        "colab": {
          "base_uri": "https://localhost:8080/"
        },
        "id": "VSssjC_loAsc",
        "outputId": "40627df6-2bb6-476c-9cf0-63336936db25"
      },
      "source": [
        "from sklearn.linear_model import LinearRegression\n",
        "lin_regressor = LinearRegression()\n",
        "lin_regressor.fit(X, y)"
      ],
      "execution_count": 31,
      "outputs": [
        {
          "output_type": "execute_result",
          "data": {
            "text/plain": [
              "LinearRegression(copy_X=True, fit_intercept=True, n_jobs=None, normalize=False)"
            ]
          },
          "metadata": {
            "tags": []
          },
          "execution_count": 31
        }
      ]
    },
    {
      "cell_type": "code",
      "metadata": {
        "id": "WQCKdukUoXeF"
      },
      "source": [
        "#plt.scatter(X,y, color=\"red\")\n",
        "#plt.plot(X, regressor.predict(X), color=\"blue\")\n",
        "#plt.show()"
      ],
      "execution_count": 32,
      "outputs": []
    },
    {
      "cell_type": "markdown",
      "metadata": {
        "id": "IQ6sEQN_pDlf"
      },
      "source": [
        "# Training Polynomial Linear Regression"
      ]
    },
    {
      "cell_type": "code",
      "metadata": {
        "colab": {
          "base_uri": "https://localhost:8080/"
        },
        "id": "AC7BdhQHpIM7",
        "outputId": "57ef90f3-9b6c-4f20-f8ee-f832c3b30eb4"
      },
      "source": [
        "from sklearn.preprocessing import PolynomialFeatures\n",
        "poly_reg = PolynomialFeatures(degree = 4)\n",
        "X_poly = poly_reg.fit_transform(X)\n",
        "lin_reg_2 = LinearRegression()\n",
        "lin_reg_2.fit(X_poly, y)"
      ],
      "execution_count": 33,
      "outputs": [
        {
          "output_type": "execute_result",
          "data": {
            "text/plain": [
              "LinearRegression(copy_X=True, fit_intercept=True, n_jobs=None, normalize=False)"
            ]
          },
          "metadata": {
            "tags": []
          },
          "execution_count": 33
        }
      ]
    },
    {
      "cell_type": "markdown",
      "metadata": {
        "id": "yNpVY0-YuLKL"
      },
      "source": [
        "# Visualising the results"
      ]
    },
    {
      "cell_type": "code",
      "metadata": {
        "colab": {
          "base_uri": "https://localhost:8080/",
          "height": 295
        },
        "id": "yTEYrlTMuN5a",
        "outputId": "7f8637bf-ec25-4220-9eb2-b3126338f929"
      },
      "source": [
        "plt.scatter(X, y, color = \"red\")\n",
        "plt.plot(X, lin_regressor.predict(X), color=\"blue\")\n",
        "plt.title(\"Linear Regression Plot\")\n",
        "plt.xlabel(\"Levels of postion\")\n",
        "plt.ylabel(\"Predicted Salary\")\n",
        "plt.show()"
      ],
      "execution_count": 34,
      "outputs": [
        {
          "output_type": "display_data",
          "data": {
            "image/png": "[encoded data removed]",
            "text/plain": [
              "<Figure size 432x288 with 1 Axes>"
            ]
          },
          "metadata": {
            "tags": [],
            "needs_background": "light"
          }
        }
      ]
    },
    {
      "cell_type": "markdown",
      "metadata": {
        "id": "Wxo6eKk4vjrx"
      },
      "source": [
        "# Visualising Polynomial Linear Regression Model"
      ]
    },
    {
      "cell_type": "code",
      "metadata": {
        "colab": {
          "base_uri": "https://localhost:8080/",
          "height": 295
        },
        "id": "Yo1St_xfvowM",
        "outputId": "5f33910c-98c2-47a5-a826-8a8e16d03bdd"
      },
      "source": [
        "y_pred = lin_reg_2.predict(poly_reg.fit_transform(X))\n",
        "X_grid= np.arange(min(X), max(X), 0.1)\n",
        "X_grid= X_grid.reshape((len(X_grid), 1))\n",
        "plt.scatter(X, y, color = \"red\" , label = \"True Values\")\n",
        "plt.plot(X_grid, lin_reg_2.predict(poly_reg.fit_transform(X_grid)), color=\"blue\", label = \"Predicted Values\")\n",
        "plt.title(\"Polynomial Linear\")\n",
        "plt.xlabel(\"Levels of postion\")\n",
        "plt.ylabel(\"Predicted Salary\")\n",
        "plt.legend()\n",
        "plt.show()"
      ],
      "execution_count": 35,
      "outputs": [
        {
          "output_type": "display_data",
          "data": {
            "image/png": "[encoded data removed]",
            "text/plain": [
              "<Figure size 432x288 with 1 Axes>"
            ]
          },
          "metadata": {
            "tags": [],
            "needs_background": "light"
          }
        }
      ]
    },
    {
      "cell_type": "markdown",
      "metadata": {
        "id": "a9Pd1pN11gfm"
      },
      "source": [
        "# Predicting the salary with Linear Regression"
      ]
    },
    {
      "cell_type": "code",
      "metadata": {
        "colab": {
          "base_uri": "https://localhost:8080/"
        },
        "id": "JgwpuGex1oy8",
        "outputId": "9cdfb774-45ef-417a-f9ad-bf3aa576c19b"
      },
      "source": [
        "lin_regressor.predict([[6.5]])"
      ],
      "execution_count": 36,
      "outputs": [
        {
          "output_type": "execute_result",
          "data": {
            "text/plain": [
              "array([330378.79])"
            ]
          },
          "metadata": {
            "tags": []
          },
          "execution_count": 36
        }
      ]
    },
    {
      "cell_type": "markdown",
      "metadata": {
        "id": "NVmiFOmM1k03"
      },
      "source": [
        "# Predicting the salary with Poynomial Linear Regression"
      ]
    },
    {
      "cell_type": "code",
      "metadata": {
        "colab": {
          "base_uri": "https://localhost:8080/"
        },
        "id": "dFXj5Y3nx8tA",
        "outputId": "7a4d7d5f-ba71-4177-e59f-f174296aa851"
      },
      "source": [
        "lin_reg_2.predict(poly_reg.fit_transform([[6.5]]))"
      ],
      "execution_count": 37,
      "outputs": [
        {
          "output_type": "execute_result",
          "data": {
            "text/plain": [
              "array([158862.45])"
            ]
          },
          "metadata": {
            "tags": []
          },
          "execution_count": 37
        }
      ]
    },
    {
      "cell_type": "markdown",
      "metadata": {
        "id": "qxaBbpo2-5Qg"
      },
      "source": [
        "Model performance using R2"
      ]
    },
    {
      "cell_type": "code",
      "metadata": {
        "colab": {
          "base_uri": "https://localhost:8080/"
        },
        "id": "BHxgzGIB7tNQ",
        "outputId": "ef54e12a-f849-4fcd-f8ca-85546ca4538e"
      },
      "source": [
        "r2_score(y, y_pred)"
      ],
      "execution_count": 38,
      "outputs": [
        {
          "output_type": "execute_result",
          "data": {
            "text/plain": [
              "0.9973922891706614"
            ]
          },
          "metadata": {
            "tags": []
          },
          "execution_count": 38
        }
      ]
    }
  ]
}