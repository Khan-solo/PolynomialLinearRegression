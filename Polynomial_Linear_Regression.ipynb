{
  "nbformat": 4,
  "nbformat_minor": 0,
  "metadata": {
    "colab": {
      "name": "Polynomial Linear Regression",
      "provenance": [],
      "collapsed_sections": [],
      "mount_file_id": "1X7MEUvrFK6DTNtHmwBTr2FPRSkuLHtZX",
      "authorship_tag": "ABX9TyPIaG7x56hEKbDldgZol8ma",
      "include_colab_link": true
    },
    "kernelspec": {
      "name": "python3",
      "display_name": "Python 3"
    },
    "language_info": {
      "name": "python"
    }
  },
  "cells": [
    {
      "cell_type": "markdown",
      "metadata": {
        "id": "view-in-github",
        "colab_type": "text"
      },
      "source": [
        "<a href=\"https://colab.research.google.com/github/Khan-solo/PolynomialLinearRegression/blob/main/Polynomial_Linear_Regression.ipynb\" target=\"_parent\"><img src=\"https://colab.research.google.com/assets/colab-badge.svg\" alt=\"Open In Colab\"/></a>"
      ]
    },
    {
      "cell_type": "code",
      "metadata": {
        "id": "8e4KYXd4iCcG"
      },
      "source": [
        "import numpy as np\n",
        "import pandas as pd\n",
        "import matplotlib.pyplot as plt\n",
        "np.set_printoptions(precision=2)"
      ],
      "execution_count": 4,
      "outputs": []
    },
    {
      "cell_type": "code",
      "metadata": {
        "id": "IrZ0hq3Gi16a"
      },
      "source": [
        "dataset = pd.read_csv(\"/content/drive/MyDrive/Machine learning/Regression/Polynomial Linear Regression/Position_Salaries.csv\")\n",
        "X = np.array(dataset.iloc[:, 1:-1])\n",
        "y = np.array(dataset.iloc[:, -1])"
      ],
      "execution_count": 5,
      "outputs": []
    },
    {
      "cell_type": "markdown",
      "metadata": {
        "id": "xmG__NnNn76q"
      },
      "source": [
        "# Testing Simple Linear Model"
      ]
    },
    {
      "cell_type": "code",
      "metadata": {
        "colab": {
          "base_uri": "https://localhost:8080/"
        },
        "id": "VSssjC_loAsc",
        "outputId": "1cdcbb90-0a33-45aa-e163-6d151715cee9"
      },
      "source": [
        "from sklearn.linear_model import LinearRegression\n",
        "lin_regressor = LinearRegression()\n",
        "lin_regressor.fit(X, y)"
      ],
      "execution_count": 6,
      "outputs": [
        {
          "output_type": "execute_result",
          "data": {
            "text/plain": [
              "LinearRegression(copy_X=True, fit_intercept=True, n_jobs=None, normalize=False)"
            ]
          },
          "metadata": {
            "tags": []
          },
          "execution_count": 6
        }
      ]
    },
    {
      "cell_type": "code",
      "metadata": {
        "id": "WQCKdukUoXeF"
      },
      "source": [
        "#plt.scatter(X,y, color=\"red\")\n",
        "#plt.plot(X, regressor.predict(X), color=\"blue\")\n",
        "#plt.show()"
      ],
      "execution_count": 7,
      "outputs": []
    },
    {
      "cell_type": "markdown",
      "metadata": {
        "id": "IQ6sEQN_pDlf"
      },
      "source": [
        "# Training Polynomial Linear Regression"
      ]
    },
    {
      "cell_type": "code",
      "metadata": {
        "colab": {
          "base_uri": "https://localhost:8080/"
        },
        "id": "AC7BdhQHpIM7",
        "outputId": "47114f37-79ef-4d6f-d8a3-54e4ab87b1d3"
      },
      "source": [
        "from sklearn.preprocessing import PolynomialFeatures\n",
        "poly_reg = PolynomialFeatures(degree = 4)\n",
        "X_poly = poly_reg.fit_transform(X)\n",
        "lin_reg_2 = LinearRegression()\n",
        "lin_reg_2.fit(X_poly, y)"
      ],
      "execution_count": 8,
      "outputs": [
        {
          "output_type": "execute_result",
          "data": {
            "text/plain": [
              "LinearRegression(copy_X=True, fit_intercept=True, n_jobs=None, normalize=False)"
            ]
          },
          "metadata": {
            "tags": []
          },
          "execution_count": 8
        }
      ]
    },
    {
      "cell_type": "markdown",
      "metadata": {
        "id": "yNpVY0-YuLKL"
      },
      "source": [
        "# Visualising the results"
      ]
    },
    {
      "cell_type": "code",
      "metadata": {
        "colab": {
          "base_uri": "https://localhost:8080/",
          "height": 295
        },
        "id": "yTEYrlTMuN5a",
        "outputId": "5fbb72a5-8476-45a0-c3ff-d207ae474948"
      },
      "source": [
        "plt.scatter(X, y, color = \"red\")\n",
        "plt.plot(X, lin_regressor.predict(X), color=\"blue\")\n",
        "plt.title(\"Linear Regression Plot\")\n",
        "plt.xlabel(\"Levels of postion\")\n",
        "plt.ylabel(\"Predicted Salary\")\n",
        "plt.show()"
      ],
      "execution_count": 9,
      "outputs": [
        {
          "output_type": "display_data",
          "data": {
            "image/png": "[encoded data removed]",
            "text/plain": [
              "<Figure size 432x288 with 1 Axes>"
            ]
          },
          "metadata": {
            "tags": [],
            "needs_background": "light"
          }
        }
      ]
    },
    {
      "cell_type": "markdown",
      "metadata": {
        "id": "Wxo6eKk4vjrx"
      },
      "source": [
        "# Visualising Polynomial Linear Regression Model"
      ]
    },
    {
      "cell_type": "code",
      "metadata": {
        "colab": {
          "base_uri": "https://localhost:8080/",
          "height": 295
        },
        "id": "Yo1St_xfvowM",
        "outputId": "ebc9ff03-fefb-4500-e31b-46b3e910e922"
      },
      "source": [
        "X_grid= np.arange(min(X), max(X), 0.1)\n",
        "X_grid= X_grid.reshape((len(X_grid), 1))\n",
        "plt.scatter(X, y, color = \"red\")\n",
        "plt.plot(X_grid, lin_reg_2.predict(poly_reg.fit_transform(X_grid)), color=\"blue\")\n",
        "plt.title(\"Polynomial Linear Regression Plot\")\n",
        "plt.xlabel(\"Levels of postion\")\n",
        "plt.ylabel(\"Predicted Salary\")\n",
        "plt.show()"
      ],
      "execution_count": 17,
      "outputs": [
        {
          "output_type": "display_data",
          "data": {
            "image/png": "[encoded data removed]",
            "text/plain": [
              "<Figure size 432x288 with 1 Axes>"
            ]
          },
          "metadata": {
            "tags": [],
            "needs_background": "light"
          }
        }
      ]
    },
    {
      "cell_type": "markdown",
      "metadata": {
        "id": "a9Pd1pN11gfm"
      },
      "source": [
        "# Predicting the salary with Linear Regression"
      ]
    },
    {
      "cell_type": "code",
      "metadata": {
        "colab": {
          "base_uri": "https://localhost:8080/"
        },
        "id": "JgwpuGex1oy8",
        "outputId": "4cf7b8ac-b3e4-473e-ea34-6783bd5484d2"
      },
      "source": [
        "lin_regressor.predict([[6.5]])"
      ],
      "execution_count": 10,
      "outputs": [
        {
          "output_type": "execute_result",
          "data": {
            "text/plain": [
              "array([330378.79])"
            ]
          },
          "metadata": {
            "tags": []
          },
          "execution_count": 10
        }
      ]
    },
    {
      "cell_type": "markdown",
      "metadata": {
        "id": "NVmiFOmM1k03"
      },
      "source": [
        "# Predicting the salary with Poynomial Linear Regression"
      ]
    },
    {
      "cell_type": "code",
      "metadata": {
        "id": "dFXj5Y3nx8tA"
      },
      "source": [
        "lin_reg_2.predict(poly_reg.fit_transform([[6.5]]))\n",
        "y_pred = lin_reg_2.predict(poly_reg.fit_transform(X))"
      ],
      "execution_count": 13,
      "outputs": []
    },
    {
      "cell_type": "code",
      "metadata": {
        "colab": {
          "base_uri": "https://localhost:8080/"
        },
        "id": "BHxgzGIB7tNQ",
        "outputId": "edf76285-5af6-4e75-bf91-337a037041fe"
      },
      "source": [
        "from sklearn.metrics import r2_score\n",
        "r2_score(y, y_pred)"
      ],
      "execution_count": 14,
      "outputs": [
        {
          "output_type": "execute_result",
          "data": {
            "text/plain": [
              "0.9973922891706614"
            ]
          },
          "metadata": {
            "tags": []
          },
          "execution_count": 14
        }
      ]
    }
  ]
}